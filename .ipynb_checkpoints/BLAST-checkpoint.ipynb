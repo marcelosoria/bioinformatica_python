{
 "cells": [
  {
   "cell_type": "code",
   "execution_count": 4,
   "id": "2fc372f3-ef91-4b1d-909e-430fc31d98dc",
   "metadata": {},
   "outputs": [],
   "source": [
    "from Bio import Blast\n",
    "from Bio import SeqIO\n",
    "# Probablemente necesiten instalar Zipfile2  y json. lo pueden hacer con conda:\n",
    "# conda install conda-forge::zipfile2\n",
    "# conda install jmcmurray::json\n",
    "import zipfile2\n",
    "import json"
   ]
  },
  {
   "cell_type": "code",
   "execution_count": 6,
   "id": "eb559edb-d55b-406b-b5e5-9dbeeecd1943",
   "metadata": {},
   "outputs": [
    {
     "data": {
      "text/plain": [
       "'biopython'"
      ]
     },
     "execution_count": 6,
     "metadata": {},
     "output_type": "execute_result"
    }
   ],
   "source": [
    "Blast.tool"
   ]
  },
  {
   "cell_type": "code",
   "execution_count": 8,
   "id": "c188c76c-2752-4096-8746-3e62fc60409b",
   "metadata": {},
   "outputs": [],
   "source": [
    "Blast.email = \"mi_mail@gmail.com\""
   ]
  },
  {
   "cell_type": "code",
   "execution_count": 10,
   "id": "5ac9486d-48fa-4fd6-aef5-400bcf75f846",
   "metadata": {},
   "outputs": [],
   "source": [
    "result_stream = Blast.qblast(\"blastp\", \"nr\", \"NP_013127\", format_type=\"JSON2\")"
   ]
  },
  {
   "cell_type": "code",
   "execution_count": 39,
   "id": "189f2648-25f0-47b4-9bb0-8f148fa48679",
   "metadata": {},
   "outputs": [],
   "source": [
    "data = result_stream.read()"
   ]
  },
  {
   "cell_type": "code",
   "execution_count": 31,
   "id": "3deca1d4-fa2a-4a18-84aa-0e9852f6c88b",
   "metadata": {},
   "outputs": [],
   "source": [
    "with open(\"blast_file.zip\", \"wb\") as out_stream:\n",
    "    out_stream.write(data)"
   ]
  },
  {
   "cell_type": "code",
   "execution_count": 33,
   "id": "60b8baef-ea1a-48eb-af66-b048a5d21773",
   "metadata": {},
   "outputs": [
    {
     "ename": "BadZipFile",
     "evalue": "File is not a zip file",
     "output_type": "error",
     "traceback": [
      "\u001b[1;31m---------------------------------------------------------------------------\u001b[0m",
      "\u001b[1;31mBadZipFile\u001b[0m                                Traceback (most recent call last)",
      "Cell \u001b[1;32mIn[33], line 1\u001b[0m\n\u001b[1;32m----> 1\u001b[0m zip_file \u001b[38;5;241m=\u001b[39m \u001b[43mzipfile2\u001b[49m\u001b[38;5;241;43m.\u001b[39;49m\u001b[43mZipFile\u001b[49m\u001b[43m(\u001b[49m\u001b[38;5;124;43m\"\u001b[39;49m\u001b[38;5;124;43mblast_file.zip\u001b[39;49m\u001b[38;5;124;43m\"\u001b[39;49m\u001b[43m)\u001b[49m\n",
      "File \u001b[1;32m~\\miniconda3\\Lib\\site-packages\\zipfile2\\_zipfile.py:59\u001b[0m, in \u001b[0;36mZipFile.__init__\u001b[1;34m(self, file, mode, compression, allowZip64, low_level)\u001b[0m\n\u001b[0;32m     57\u001b[0m     zipfile\u001b[38;5;241m.\u001b[39mZipFile\u001b[38;5;241m.\u001b[39m\u001b[38;5;21m__init__\u001b[39m(\u001b[38;5;28mself\u001b[39m, file, mode, compression, allowZip64)\n\u001b[0;32m     58\u001b[0m \u001b[38;5;28;01melse\u001b[39;00m:\n\u001b[1;32m---> 59\u001b[0m     \u001b[38;5;28;43msuper\u001b[39;49m\u001b[43m(\u001b[49m\u001b[43mZipFile\u001b[49m\u001b[43m,\u001b[49m\u001b[43m \u001b[49m\u001b[38;5;28;43mself\u001b[39;49m\u001b[43m)\u001b[49m\u001b[38;5;241;43m.\u001b[39;49m\u001b[38;5;21;43m__init__\u001b[39;49m\u001b[43m(\u001b[49m\u001b[43mfile\u001b[49m\u001b[43m,\u001b[49m\u001b[43m \u001b[49m\u001b[43mmode\u001b[49m\u001b[43m,\u001b[49m\u001b[43m \u001b[49m\u001b[43mcompression\u001b[49m\u001b[43m,\u001b[49m\u001b[43m \u001b[49m\u001b[43mallowZip64\u001b[49m\u001b[43m)\u001b[49m\n\u001b[0;32m     61\u001b[0m \u001b[38;5;28mself\u001b[39m\u001b[38;5;241m.\u001b[39mlow_level \u001b[38;5;241m=\u001b[39m low_level\n\u001b[0;32m     63\u001b[0m \u001b[38;5;66;03m# Set of filenames currently in file\u001b[39;00m\n",
      "File \u001b[1;32m~\\miniconda3\\Lib\\zipfile\\__init__.py:1349\u001b[0m, in \u001b[0;36mZipFile.__init__\u001b[1;34m(self, file, mode, compression, allowZip64, compresslevel, strict_timestamps, metadata_encoding)\u001b[0m\n\u001b[0;32m   1347\u001b[0m \u001b[38;5;28;01mtry\u001b[39;00m:\n\u001b[0;32m   1348\u001b[0m     \u001b[38;5;28;01mif\u001b[39;00m mode \u001b[38;5;241m==\u001b[39m \u001b[38;5;124m'\u001b[39m\u001b[38;5;124mr\u001b[39m\u001b[38;5;124m'\u001b[39m:\n\u001b[1;32m-> 1349\u001b[0m         \u001b[38;5;28;43mself\u001b[39;49m\u001b[38;5;241;43m.\u001b[39;49m\u001b[43m_RealGetContents\u001b[49m\u001b[43m(\u001b[49m\u001b[43m)\u001b[49m\n\u001b[0;32m   1350\u001b[0m     \u001b[38;5;28;01melif\u001b[39;00m mode \u001b[38;5;129;01min\u001b[39;00m (\u001b[38;5;124m'\u001b[39m\u001b[38;5;124mw\u001b[39m\u001b[38;5;124m'\u001b[39m, \u001b[38;5;124m'\u001b[39m\u001b[38;5;124mx\u001b[39m\u001b[38;5;124m'\u001b[39m):\n\u001b[0;32m   1351\u001b[0m         \u001b[38;5;66;03m# set the modified flag so central directory gets written\u001b[39;00m\n\u001b[0;32m   1352\u001b[0m         \u001b[38;5;66;03m# even if no files are added to the archive\u001b[39;00m\n\u001b[0;32m   1353\u001b[0m         \u001b[38;5;28mself\u001b[39m\u001b[38;5;241m.\u001b[39m_didModify \u001b[38;5;241m=\u001b[39m \u001b[38;5;28;01mTrue\u001b[39;00m\n",
      "File \u001b[1;32m~\\miniconda3\\Lib\\zipfile\\__init__.py:1416\u001b[0m, in \u001b[0;36mZipFile._RealGetContents\u001b[1;34m(self)\u001b[0m\n\u001b[0;32m   1414\u001b[0m     \u001b[38;5;28;01mraise\u001b[39;00m BadZipFile(\u001b[38;5;124m\"\u001b[39m\u001b[38;5;124mFile is not a zip file\u001b[39m\u001b[38;5;124m\"\u001b[39m)\n\u001b[0;32m   1415\u001b[0m \u001b[38;5;28;01mif\u001b[39;00m \u001b[38;5;129;01mnot\u001b[39;00m endrec:\n\u001b[1;32m-> 1416\u001b[0m     \u001b[38;5;28;01mraise\u001b[39;00m BadZipFile(\u001b[38;5;124m\"\u001b[39m\u001b[38;5;124mFile is not a zip file\u001b[39m\u001b[38;5;124m\"\u001b[39m)\n\u001b[0;32m   1417\u001b[0m \u001b[38;5;28;01mif\u001b[39;00m \u001b[38;5;28mself\u001b[39m\u001b[38;5;241m.\u001b[39mdebug \u001b[38;5;241m>\u001b[39m \u001b[38;5;241m1\u001b[39m:\n\u001b[0;32m   1418\u001b[0m     \u001b[38;5;28mprint\u001b[39m(endrec)\n",
      "\u001b[1;31mBadZipFile\u001b[0m: File is not a zip file"
     ]
    }
   ],
   "source": [
    "zip_file = zipfile2.ZipFile(\"blast_file.zip\")"
   ]
  },
  {
   "cell_type": "code",
   "execution_count": 41,
   "id": "fba0ed8d-d03c-4958-8bfa-7ddc37ea6ab0",
   "metadata": {},
   "outputs": [
    {
     "data": {
      "text/plain": [
       "['JGBMFPKN016.json', 'JGBMFPKN016_1.json']"
      ]
     },
     "execution_count": 41,
     "metadata": {},
     "output_type": "execute_result"
    }
   ],
   "source": [
    "zip_file.namelist()"
   ]
  },
  {
   "cell_type": "code",
   "execution_count": 51,
   "id": "709618cd-8ac7-4693-a414-54304fa85238",
   "metadata": {},
   "outputs": [
    {
     "ename": "BadZipFile",
     "evalue": "Truncated file header",
     "output_type": "error",
     "traceback": [
      "\u001b[1;31m---------------------------------------------------------------------------\u001b[0m",
      "\u001b[1;31mBadZipFile\u001b[0m                                Traceback (most recent call last)",
      "Cell \u001b[1;32mIn[51], line 1\u001b[0m\n\u001b[1;32m----> 1\u001b[0m stream \u001b[38;5;241m=\u001b[39m \u001b[43mzip_file\u001b[49m\u001b[38;5;241;43m.\u001b[39;49m\u001b[43mopen\u001b[49m\u001b[43m(\u001b[49m\u001b[43mzip_file\u001b[49m\u001b[38;5;241;43m.\u001b[39;49m\u001b[43mnamelist\u001b[49m\u001b[43m(\u001b[49m\u001b[43m)\u001b[49m\u001b[43m[\u001b[49m\u001b[38;5;241;43m0\u001b[39;49m\u001b[43m]\u001b[49m\u001b[43m)\u001b[49m\n\u001b[0;32m      2\u001b[0m data \u001b[38;5;241m=\u001b[39m stream\u001b[38;5;241m.\u001b[39mread()\n",
      "File \u001b[1;32m~\\miniconda3\\Lib\\zipfile\\__init__.py:1622\u001b[0m, in \u001b[0;36mZipFile.open\u001b[1;34m(self, name, mode, pwd, force_zip64)\u001b[0m\n\u001b[0;32m   1620\u001b[0m fheader \u001b[38;5;241m=\u001b[39m zef_file\u001b[38;5;241m.\u001b[39mread(sizeFileHeader)\n\u001b[0;32m   1621\u001b[0m \u001b[38;5;28;01mif\u001b[39;00m \u001b[38;5;28mlen\u001b[39m(fheader) \u001b[38;5;241m!=\u001b[39m sizeFileHeader:\n\u001b[1;32m-> 1622\u001b[0m     \u001b[38;5;28;01mraise\u001b[39;00m BadZipFile(\u001b[38;5;124m\"\u001b[39m\u001b[38;5;124mTruncated file header\u001b[39m\u001b[38;5;124m\"\u001b[39m)\n\u001b[0;32m   1623\u001b[0m fheader \u001b[38;5;241m=\u001b[39m struct\u001b[38;5;241m.\u001b[39munpack(structFileHeader, fheader)\n\u001b[0;32m   1624\u001b[0m \u001b[38;5;28;01mif\u001b[39;00m fheader[_FH_SIGNATURE] \u001b[38;5;241m!=\u001b[39m stringFileHeader:\n",
      "\u001b[1;31mBadZipFile\u001b[0m: Truncated file header"
     ]
    }
   ],
   "source": [
    "stream = zip_file.open(zip_file.namelist()[0])\n",
    "data = stream.read()"
   ]
  },
  {
   "cell_type": "code",
   "execution_count": 53,
   "id": "ad2b6e4d-8c0c-4d9f-9522-216816c339c9",
   "metadata": {},
   "outputs": [
    {
     "name": "stdout",
     "output_type": "stream",
     "text": [
      "b''\n"
     ]
    }
   ],
   "source": [
    "print(data)"
   ]
  },
  {
   "cell_type": "code",
   "execution_count": 57,
   "id": "295a6133-abf0-4e80-b239-2a91156e3121",
   "metadata": {},
   "outputs": [],
   "source": [
    "stream = zip_file.open(zip_file.namelist()[1])\n",
    "data = stream.read()\n"
   ]
  },
  {
   "cell_type": "code",
   "execution_count": 59,
   "id": "cd308b3e-13aa-443f-b5f4-23aecf5044d6",
   "metadata": {},
   "outputs": [],
   "source": [
    "d = json.loads(data)"
   ]
  },
  {
   "cell_type": "code",
   "execution_count": 55,
   "id": "3c546912-a035-4077-86fc-5dc595086e23",
   "metadata": {},
   "outputs": [
    {
     "ename": "NameError",
     "evalue": "name 'd' is not defined",
     "output_type": "error",
     "traceback": [
      "\u001b[1;31m---------------------------------------------------------------------------\u001b[0m",
      "\u001b[1;31mNameError\u001b[0m                                 Traceback (most recent call last)",
      "Cell \u001b[1;32mIn[55], line 1\u001b[0m\n\u001b[1;32m----> 1\u001b[0m \u001b[38;5;28mtype\u001b[39m(\u001b[43md\u001b[49m)\n",
      "\u001b[1;31mNameError\u001b[0m: name 'd' is not defined"
     ]
    }
   ],
   "source": [
    "type(d)"
   ]
  },
  {
   "cell_type": "code",
   "execution_count": 68,
   "id": "777e29c6-f66f-4627-aa94-9034e0ce5b49",
   "metadata": {},
   "outputs": [
    {
     "data": {
      "text/plain": [
       "dict_keys(['BlastOutput2'])"
      ]
     },
     "execution_count": 68,
     "metadata": {},
     "output_type": "execute_result"
    }
   ],
   "source": [
    "d.keys()"
   ]
  },
  {
   "cell_type": "code",
   "execution_count": 80,
   "id": "77995bd3-055d-4626-9085-283f6a1fd1e6",
   "metadata": {},
   "outputs": [
    {
     "data": {
      "text/plain": [
       "dict"
      ]
     },
     "execution_count": 80,
     "metadata": {},
     "output_type": "execute_result"
    }
   ],
   "source": [
    "type(d['BlastOutput2'])"
   ]
  },
  {
   "cell_type": "code",
   "execution_count": 84,
   "id": "80cf46e6-0e6e-4810-ad9d-34df14edecd9",
   "metadata": {},
   "outputs": [],
   "source": [
    "blast_dict = d['BlastOutput2']"
   ]
  },
  {
   "cell_type": "code",
   "execution_count": 88,
   "id": "23dd285e-ac88-4043-8565-5747a96ee162",
   "metadata": {},
   "outputs": [
    {
     "data": {
      "text/plain": [
       "dict_keys(['report'])"
      ]
     },
     "execution_count": 88,
     "metadata": {},
     "output_type": "execute_result"
    }
   ],
   "source": [
    "d['BlastOutput2'].keys()"
   ]
  },
  {
   "cell_type": "code",
   "execution_count": 94,
   "id": "68d770e6-42f6-42cb-bf57-758987b614cb",
   "metadata": {},
   "outputs": [],
   "source": [
    "blast_dict = d['BlastOutput2']['report']"
   ]
  },
  {
   "cell_type": "code",
   "execution_count": 96,
   "id": "7c1d6de8-ab8c-41b1-92fc-6c16e7704ae8",
   "metadata": {},
   "outputs": [
    {
     "data": {
      "text/plain": [
       "dict_keys(['program', 'version', 'reference', 'search_target', 'params', 'results'])"
      ]
     },
     "execution_count": 96,
     "metadata": {},
     "output_type": "execute_result"
    }
   ],
   "source": [
    "blast_dict.keys()"
   ]
  },
  {
   "cell_type": "code",
   "execution_count": 98,
   "id": "c2f7782e-d367-4c54-ac67-26afd1683f90",
   "metadata": {},
   "outputs": [
    {
     "data": {
      "text/plain": [
       "'blastp'"
      ]
     },
     "execution_count": 98,
     "metadata": {},
     "output_type": "execute_result"
    }
   ],
   "source": [
    "blast_dict['program']"
   ]
  },
  {
   "cell_type": "code",
   "execution_count": 100,
   "id": "f396e31d-c382-4162-9330-56f1243282c0",
   "metadata": {},
   "outputs": [
    {
     "data": {
      "text/plain": [
       "'BLASTP 2.16.0+'"
      ]
     },
     "execution_count": 100,
     "metadata": {},
     "output_type": "execute_result"
    }
   ],
   "source": [
    "blast_dict['version']"
   ]
  },
  {
   "cell_type": "code",
   "execution_count": 104,
   "id": "89ef9b90-c68c-4757-86ca-dc5979ae134c",
   "metadata": {},
   "outputs": [
    {
     "data": {
      "text/plain": [
       "{'matrix': 'BLOSUM62',\n",
       " 'expect': 10,\n",
       " 'gap_open': 11,\n",
       " 'gap_extend': 1,\n",
       " 'filter': 'F',\n",
       " 'cbs': 2}"
      ]
     },
     "execution_count": 104,
     "metadata": {},
     "output_type": "execute_result"
    }
   ],
   "source": [
    "blast_dict['params']"
   ]
  },
  {
   "cell_type": "code",
   "execution_count": 108,
   "id": "759f7c49-478e-47c0-8d0c-0a97b144a994",
   "metadata": {},
   "outputs": [
    {
     "data": {
      "text/plain": [
       "dict"
      ]
     },
     "execution_count": 108,
     "metadata": {},
     "output_type": "execute_result"
    }
   ],
   "source": [
    "type(blast_dict['results'])"
   ]
  },
  {
   "cell_type": "code",
   "execution_count": 110,
   "id": "a79c6913-38e4-4778-9113-6f732e063f76",
   "metadata": {},
   "outputs": [
    {
     "data": {
      "text/plain": [
       "dict_keys(['search'])"
      ]
     },
     "execution_count": 110,
     "metadata": {},
     "output_type": "execute_result"
    }
   ],
   "source": [
    "blast_dict['results'].keys()"
   ]
  },
  {
   "cell_type": "code",
   "execution_count": 112,
   "id": "09c23081-f674-48ea-b4a3-1947a111ebe5",
   "metadata": {},
   "outputs": [
    {
     "data": {
      "text/plain": [
       "dict_keys(['query_id', 'query_title', 'query_len', 'hits', 'stat'])"
      ]
     },
     "execution_count": 112,
     "metadata": {},
     "output_type": "execute_result"
    }
   ],
   "source": [
    "blast_dict['results']['search'].keys()"
   ]
  },
  {
   "cell_type": "code",
   "execution_count": 128,
   "id": "fd18fc90-dd0a-4c8b-aef7-b2d24d24184a",
   "metadata": {},
   "outputs": [
    {
     "data": {
      "text/plain": [
       "list"
      ]
     },
     "execution_count": 128,
     "metadata": {},
     "output_type": "execute_result"
    }
   ],
   "source": [
    "type(blast_dict['results']['search']['hits'])"
   ]
  },
  {
   "cell_type": "code",
   "execution_count": 130,
   "id": "bc09f021-1ff8-4233-952e-f40758a5a7de",
   "metadata": {},
   "outputs": [],
   "source": [
    "res_list = blast_dict['results']['search']['hits']"
   ]
  },
  {
   "cell_type": "code",
   "execution_count": 138,
   "id": "9827bc54-1719-4508-8960-ff2ad435e544",
   "metadata": {},
   "outputs": [
    {
     "data": {
      "text/plain": [
       "50"
      ]
     },
     "execution_count": 138,
     "metadata": {},
     "output_type": "execute_result"
    }
   ],
   "source": [
    "len(res_list)"
   ]
  },
  {
   "cell_type": "code",
   "execution_count": 140,
   "id": "8fa1711d-0598-4289-8e81-dd736740dd1c",
   "metadata": {},
   "outputs": [
    {
     "data": {
      "text/plain": [
       "dict"
      ]
     },
     "execution_count": 140,
     "metadata": {},
     "output_type": "execute_result"
    }
   ],
   "source": [
    "type(res_list[0])"
   ]
  },
  {
   "cell_type": "code",
   "execution_count": 142,
   "id": "a10212b3-606f-42b3-8012-b67308b29b69",
   "metadata": {},
   "outputs": [
    {
     "data": {
      "text/plain": [
       "dict_keys(['num', 'description', 'len', 'hsps'])"
      ]
     },
     "execution_count": 142,
     "metadata": {},
     "output_type": "execute_result"
    }
   ],
   "source": [
    "res_list[0].keys()"
   ]
  },
  {
   "cell_type": "code",
   "execution_count": 156,
   "id": "d9df76f7-493d-4166-883b-396ac68fb925",
   "metadata": {},
   "outputs": [
    {
     "data": {
      "text/plain": [
       "[{'id': 'emb|CAA97550.1|',\n",
       "  'accession': 'CAA97550',\n",
       "  'title': 'AAT2 [Saccharomyces cerevisiae]',\n",
       "  'taxid': 4932,\n",
       "  'sciname': 'Saccharomyces cerevisiae'}]"
      ]
     },
     "execution_count": 156,
     "metadata": {},
     "output_type": "execute_result"
    }
   ],
   "source": [
    "res_list[0]['description']"
   ]
  },
  {
   "cell_type": "code",
   "execution_count": 146,
   "id": "a67fb963-6431-49bd-9034-c580742bb616",
   "metadata": {},
   "outputs": [
    {
     "data": {
      "text/plain": [
       "432"
      ]
     },
     "execution_count": 146,
     "metadata": {},
     "output_type": "execute_result"
    }
   ],
   "source": [
    "res_list[0]['len']"
   ]
  },
  {
   "cell_type": "code",
   "execution_count": 148,
   "id": "071e6ee8-1756-479d-b32d-63ae4524f704",
   "metadata": {},
   "outputs": [
    {
     "data": {
      "text/plain": [
       "[{'num': 1,\n",
       "  'bit_score': 874.774,\n",
       "  'score': 2259,\n",
       "  'evalue': 0,\n",
       "  'identity': 418,\n",
       "  'positive': 418,\n",
       "  'query_from': 1,\n",
       "  'query_to': 418,\n",
       "  'hit_from': 15,\n",
       "  'hit_to': 432,\n",
       "  'align_len': 418,\n",
       "  'gaps': 0,\n",
       "  'qseq': 'MSATLFNNIELLPPDALFGIKQRYGQDQRATKVDLGIGAYRDDNGKPWVLPSVKAAEKLIHNDSSYNHEYLGITGLPSLTSNAAKIIFGTQSDAFQEDRVISVQSLSGTGALHISAKFFSKFFPDKLVYLSKPTWANHMAIFENQGLKTATYPYWANETKSLDLNGFLNAIQKAPEGSIFVLHSCAHNPTGLDPTSEQWVQIVDAIASKNHIALFDTAYQGFATGDLDKDAYAVRLGVEKLSTVSPVFVCQSFAKNAGMYGERVGCFHLALTKQAQNKTIKPAVTSQLAKIIRSEVSNPPAYGAKIVAKLLETPELTEQWHKDMVTMSSRITKMRHALRDHLVKLGTPGNWDHIVNQCGMFSFTGLTPQMVKRLEETHAVYLVASGRASIAGLNQGNVEYVAKAIDEVVRFYTIEAKL',\n",
       "  'hseq': 'MSATLFNNIELLPPDALFGIKQRYGQDQRATKVDLGIGAYRDDNGKPWVLPSVKAAEKLIHNDSSYNHEYLGITGLPSLTSNAAKIIFGTQSDAFQEDRVISVQSLSGTGALHISAKFFSKFFPDKLVYLSKPTWANHMAIFENQGLKTATYPYWANETKSLDLNGFLNAIQKAPEGSIFVLHSCAHNPTGLDPTSEQWVQIVDAIASKNHIALFDTAYQGFATGDLDKDAYAVRLGVEKLSTVSPVFVCQSFAKNAGMYGERVGCFHLALTKQAQNKTIKPAVTSQLAKIIRSEVSNPPAYGAKIVAKLLETPELTEQWHKDMVTMSSRITKMRHALRDHLVKLGTPGNWDHIVNQCGMFSFTGLTPQMVKRLEETHAVYLVASGRASIAGLNQGNVEYVAKAIDEVVRFYTIEAKL',\n",
       "  'midline': 'MSATLFNNIELLPPDALFGIKQRYGQDQRATKVDLGIGAYRDDNGKPWVLPSVKAAEKLIHNDSSYNHEYLGITGLPSLTSNAAKIIFGTQSDAFQEDRVISVQSLSGTGALHISAKFFSKFFPDKLVYLSKPTWANHMAIFENQGLKTATYPYWANETKSLDLNGFLNAIQKAPEGSIFVLHSCAHNPTGLDPTSEQWVQIVDAIASKNHIALFDTAYQGFATGDLDKDAYAVRLGVEKLSTVSPVFVCQSFAKNAGMYGERVGCFHLALTKQAQNKTIKPAVTSQLAKIIRSEVSNPPAYGAKIVAKLLETPELTEQWHKDMVTMSSRITKMRHALRDHLVKLGTPGNWDHIVNQCGMFSFTGLTPQMVKRLEETHAVYLVASGRASIAGLNQGNVEYVAKAIDEVVRFYTIEAKL'}]"
      ]
     },
     "execution_count": 148,
     "metadata": {},
     "output_type": "execute_result"
    }
   ],
   "source": [
    "res_list[0]['hsps']"
   ]
  },
  {
   "cell_type": "code",
   "execution_count": 164,
   "id": "fa45db6c-e46b-4a69-afdf-2f382c43e748",
   "metadata": {},
   "outputs": [
    {
     "data": {
      "text/plain": [
       "1"
      ]
     },
     "execution_count": 164,
     "metadata": {},
     "output_type": "execute_result"
    }
   ],
   "source": [
    "len(res_list[0]['description'])"
   ]
  },
  {
   "cell_type": "code",
   "execution_count": 168,
   "id": "e67baba0-6b68-4ae5-8d73-01d688684f9a",
   "metadata": {},
   "outputs": [
    {
     "data": {
      "text/plain": [
       "'CAA97550'"
      ]
     },
     "execution_count": 168,
     "metadata": {},
     "output_type": "execute_result"
    }
   ],
   "source": [
    "res_list[0]['description'][0]['accession']"
   ]
  },
  {
   "cell_type": "code",
   "execution_count": null,
   "id": "7600a29e-435a-4789-a6ed-dfb8b2e142e5",
   "metadata": {},
   "outputs": [],
   "source": []
  }
 ],
 "metadata": {
  "kernelspec": {
   "display_name": "Python 3 (ipykernel)",
   "language": "python",
   "name": "python3"
  },
  "language_info": {
   "codemirror_mode": {
    "name": "ipython",
    "version": 3
   },
   "file_extension": ".py",
   "mimetype": "text/x-python",
   "name": "python",
   "nbconvert_exporter": "python",
   "pygments_lexer": "ipython3",
   "version": "3.12.3"
  }
 },
 "nbformat": 4,
 "nbformat_minor": 5
}
