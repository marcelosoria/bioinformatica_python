{
 "cells": [
  {
   "cell_type": "markdown",
   "id": "c07d614b-bf8f-4d8c-8a3b-7df4e0289d40",
   "metadata": {},
   "source": [
    "# Análisis BLAST contra las bases de datos del NCBI"
   ]
  },
  {
   "cell_type": "markdown",
   "id": "e777b1fd-e265-4149-93d8-eadd5a534013",
   "metadata": {},
   "source": [
    "En este ejercicio vamos a hacer una búsqueda de secuencias por similitud usando el algoritmo blast en la base de datos del NCBI."
   ]
  },
  {
   "cell_type": "code",
   "execution_count": null,
   "id": "91f199e5-ca87-488c-a1f2-9f654e0586ae",
   "metadata": {},
   "outputs": [],
   "source": [
    "### Libraries necesarias"
   ]
  },
  {
   "cell_type": "code",
   "execution_count": 2,
   "id": "2fc372f3-ef91-4b1d-909e-430fc31d98dc",
   "metadata": {},
   "outputs": [],
   "source": [
    "from Bio import Blast\n",
    "from Bio import SeqIO\n",
    "# Probablemente necesiten instalar Zipfile2  y json. lo pueden hacer con conda:\n",
    "# conda install conda-forge::zipfile2\n",
    "# conda install jmcmurray::json\n",
    "import zipfile2\n",
    "import json"
   ]
  },
  {
   "cell_type": "markdown",
   "id": "d8727c9d-cf09-43ff-8645-aa5798b28742",
   "metadata": {},
   "source": [
    "Verifiquemos que el módulo Blast esta funcionando bien."
   ]
  },
  {
   "cell_type": "code",
   "execution_count": 3,
   "id": "eb559edb-d55b-406b-b5e5-9dbeeecd1943",
   "metadata": {},
   "outputs": [
    {
     "data": {
      "text/plain": [
       "'biopython'"
      ]
     },
     "execution_count": 3,
     "metadata": {},
     "output_type": "execute_result"
    }
   ],
   "source": [
    "Blast.tool"
   ]
  },
  {
   "cell_type": "markdown",
   "id": "821bf39e-ca35-48c0-83ff-a4d06864f70e",
   "metadata": {},
   "source": [
    "Registramos nuestro e-mail para ejecutar procesos en el NCBI"
   ]
  },
  {
   "cell_type": "code",
   "execution_count": 4,
   "id": "c188c76c-2752-4096-8746-3e62fc60409b",
   "metadata": {},
   "outputs": [],
   "source": [
    "Blast.email = \"soria@agro.uba.ar\""
   ]
  },
  {
   "cell_type": "markdown",
   "id": "ab73dd58-c6fb-4d16-a452-02b3b789e10d",
   "metadata": {},
   "source": [
    "En la celda que sigue corremos el análisis BLAST de una secuencia cualquiera, en este caso, una proteína con el número de acceso NP_013127, especificamos que el algoritmo es plastp y la base de datos nr. Queremos recuperar los resultados en formato JSON.\n",
    "**Atención**: los resultados a veces demoran en llegar. A veces bastante, es importante determinar si realmente nos conviene usar este procedimiento de rutina."
   ]
  },
  {
   "cell_type": "code",
   "execution_count": 5,
   "id": "5ac9486d-48fa-4fd6-aef5-400bcf75f846",
   "metadata": {},
   "outputs": [],
   "source": [
    "result_stream = Blast.qblast(\"blastp\", \"nr\", \"NP_013127\", format_type=\"JSON2\")"
   ]
  },
  {
   "cell_type": "markdown",
   "id": "5ebb76ab-934f-4087-ba07-02186257c16e",
   "metadata": {},
   "source": [
    "Los resultados que devuelve el NCBI se pueden leer una sola vez y vienen en comprimidos. En nuestro caso los vamos a guardar en el objeto \"data\". Si intentaran volver a ejecutar el comando de abajo, *data* quedaría vacio y perderíamos los resultados."
   ]
  },
  {
   "cell_type": "code",
   "execution_count": 6,
   "id": "189f2648-25f0-47b4-9bb0-8f148fa48679",
   "metadata": {},
   "outputs": [],
   "source": [
    "data = result_stream.read()"
   ]
  },
  {
   "cell_type": "markdown",
   "id": "38483eef-8638-4b1d-9980-873bd308ec8a",
   "metadata": {},
   "source": [
    "A continuación guardamos los resultados como archivo zip, y en la celda que sigue lo volvemos a leer. No van a proceder siempre de esta manera, pero aqui queremos demostrar cómo guardar los resultados para usarlos más tarde o para mantener una adecuada documentación del proyecto."
   ]
  },
  {
   "cell_type": "code",
   "execution_count": 7,
   "id": "3deca1d4-fa2a-4a18-84aa-0e9852f6c88b",
   "metadata": {},
   "outputs": [],
   "source": [
    "with open(\"blast_file.zip\", \"wb\") as out_stream:\n",
    "    out_stream.write(data)"
   ]
  },
  {
   "cell_type": "code",
   "execution_count": 8,
   "id": "60b8baef-ea1a-48eb-af66-b048a5d21773",
   "metadata": {},
   "outputs": [],
   "source": [
    "zip_file = zipfile2.ZipFile(\"blast_file.zip\")"
   ]
  },
  {
   "cell_type": "markdown",
   "id": "58d0443b-e6d0-4174-b5be-7b6f3030a656",
   "metadata": {},
   "source": [
    "El archivo zip contiene dos objetos, sus nombres van a cambiar, por lo que ustedes pueden ver nombres diferentes. Por eso más abajo, en lugar de llamarlos por sus nombres, los llamamos \"zip_file.namelist()[0]\" y \"zip_file.namelist()[1]\""
   ]
  },
  {
   "cell_type": "code",
   "execution_count": 10,
   "id": "fba0ed8d-d03c-4958-8bfa-7ddc37ea6ab0",
   "metadata": {},
   "outputs": [
    {
     "data": {
      "text/plain": [
       "['MW3SNBWY013.json', 'MW3SNBWY013_1.json']"
      ]
     },
     "execution_count": 10,
     "metadata": {},
     "output_type": "execute_result"
    }
   ],
   "source": [
    "zip_file.namelist()"
   ]
  },
  {
   "cell_type": "code",
   "execution_count": 11,
   "id": "709618cd-8ac7-4693-a414-54304fa85238",
   "metadata": {},
   "outputs": [],
   "source": [
    "stream = zip_file.open(zip_file.namelist()[0])\n",
    "data = stream.read()"
   ]
  },
  {
   "cell_type": "code",
   "execution_count": 12,
   "id": "ad2b6e4d-8c0c-4d9f-9522-216816c339c9",
   "metadata": {},
   "outputs": [
    {
     "name": "stdout",
     "output_type": "stream",
     "text": [
      "b'{\\n\\t\"BlastJSON\": [\\n\\t\\t{\"File\": \"MW3SNBWY013_1.json\" }\\n\\t]\\n}'\n"
     ]
    }
   ],
   "source": [
    "print(data)"
   ]
  },
  {
   "cell_type": "markdown",
   "id": "3469d058-2472-4da7-aa10-520ce7e4ce46",
   "metadata": {},
   "source": [
    "La información que nos interesa está en el segundo objeto (zip_file.namelist()[1])"
   ]
  },
  {
   "cell_type": "code",
   "execution_count": 13,
   "id": "295a6133-abf0-4e80-b239-2a91156e3121",
   "metadata": {},
   "outputs": [],
   "source": [
    "stream = zip_file.open(zip_file.namelist()[1])\n",
    "data = stream.read()\n"
   ]
  },
  {
   "cell_type": "markdown",
   "id": "baeb309d-4284-4ce3-8a9b-8f9cf210b427",
   "metadata": {},
   "source": [
    "El objeto *data* contiene bytes, es de tipo binario, tenemos que transformarlo en un diccionario JSON en modo texto."
   ]
  },
  {
   "cell_type": "code",
   "execution_count": 14,
   "id": "30263e42-dc8a-41ba-9c2e-54e2f5b3bd0f",
   "metadata": {},
   "outputs": [
    {
     "data": {
      "text/plain": [
       "bytes"
      ]
     },
     "execution_count": 14,
     "metadata": {},
     "output_type": "execute_result"
    }
   ],
   "source": [
    "type(data)"
   ]
  },
  {
   "cell_type": "code",
   "execution_count": 30,
   "id": "cd308b3e-13aa-443f-b5f4-23aecf5044d6",
   "metadata": {},
   "outputs": [],
   "source": [
    "blast_data = json.loads(data)"
   ]
  },
  {
   "cell_type": "code",
   "execution_count": 31,
   "id": "696743d6-6125-4d08-b188-67597319d88f",
   "metadata": {},
   "outputs": [
    {
     "data": {
      "text/plain": [
       "dict"
      ]
     },
     "execution_count": 31,
     "metadata": {},
     "output_type": "execute_result"
    }
   ],
   "source": [
    "type(blast_data)"
   ]
  },
  {
   "cell_type": "markdown",
   "id": "ff1b9bcb-04d7-4407-bc58-a46e86ac705e",
   "metadata": {},
   "source": [
    "Este diccionario contiene a su vez otro diccionario, que a su vez contiene otro:"
   ]
  },
  {
   "cell_type": "code",
   "execution_count": 32,
   "id": "777e29c6-f66f-4627-aa94-9034e0ce5b49",
   "metadata": {},
   "outputs": [
    {
     "data": {
      "text/plain": [
       "dict_keys(['BlastOutput2'])"
      ]
     },
     "execution_count": 32,
     "metadata": {},
     "output_type": "execute_result"
    }
   ],
   "source": [
    "blast_data.keys()"
   ]
  },
  {
   "cell_type": "code",
   "execution_count": 33,
   "id": "77995bd3-055d-4626-9085-283f6a1fd1e6",
   "metadata": {},
   "outputs": [
    {
     "data": {
      "text/plain": [
       "dict"
      ]
     },
     "execution_count": 33,
     "metadata": {},
     "output_type": "execute_result"
    }
   ],
   "source": [
    "type(blast_data['BlastOutput2'])"
   ]
  },
  {
   "cell_type": "code",
   "execution_count": 29,
   "id": "ea6b952e-8b2d-43a7-886b-080a5d035322",
   "metadata": {},
   "outputs": [
    {
     "data": {
      "text/plain": [
       "dict_keys(['report'])"
      ]
     },
     "execution_count": 29,
     "metadata": {},
     "output_type": "execute_result"
    }
   ],
   "source": [
    "blast_data['BlastOutput2'].keys()"
   ]
  },
  {
   "cell_type": "code",
   "execution_count": 35,
   "id": "7d8e882f-c3ab-4256-a044-76b1b605821b",
   "metadata": {},
   "outputs": [
    {
     "data": {
      "text/plain": [
       "dict"
      ]
     },
     "execution_count": 35,
     "metadata": {},
     "output_type": "execute_result"
    }
   ],
   "source": [
    "type( blast_data['BlastOutput2']['report'])"
   ]
  },
  {
   "cell_type": "markdown",
   "id": "4203ef79-9858-42fb-88ea-9ec54c49e07f",
   "metadata": {},
   "source": [
    "Guardamos este último diccionario en un objeto *blast_report*:"
   ]
  },
  {
   "cell_type": "code",
   "execution_count": 36,
   "id": "68d770e6-42f6-42cb-bf57-758987b614cb",
   "metadata": {},
   "outputs": [],
   "source": [
    "blast_report = blast_data['BlastOutput2']['report']"
   ]
  },
  {
   "cell_type": "code",
   "execution_count": 37,
   "id": "7c1d6de8-ab8c-41b1-92fc-6c16e7704ae8",
   "metadata": {},
   "outputs": [
    {
     "data": {
      "text/plain": [
       "dict_keys(['program', 'version', 'reference', 'search_target', 'params', 'results'])"
      ]
     },
     "execution_count": 37,
     "metadata": {},
     "output_type": "execute_result"
    }
   ],
   "source": [
    "blast_report.keys()"
   ]
  },
  {
   "cell_type": "markdown",
   "id": "6f58355a-d98d-4027-97ab-0c0287efb716",
   "metadata": {},
   "source": [
    "Los items de este diccionario contienen el nombre del algoritmo (blastp), la versión de blastp usada, los parámetros de la corrida, y el más grande de todos *blast_dict['results']* que es un diccionario con los resultados detallados."
   ]
  },
  {
   "cell_type": "code",
   "execution_count": 38,
   "id": "c2f7782e-d367-4c54-ac67-26afd1683f90",
   "metadata": {},
   "outputs": [
    {
     "data": {
      "text/plain": [
       "'blastp'"
      ]
     },
     "execution_count": 38,
     "metadata": {},
     "output_type": "execute_result"
    }
   ],
   "source": [
    "blast_report['program']"
   ]
  },
  {
   "cell_type": "code",
   "execution_count": 100,
   "id": "f396e31d-c382-4162-9330-56f1243282c0",
   "metadata": {},
   "outputs": [
    {
     "data": {
      "text/plain": [
       "'BLASTP 2.16.0+'"
      ]
     },
     "execution_count": 100,
     "metadata": {},
     "output_type": "execute_result"
    }
   ],
   "source": [
    "blast_report['version']"
   ]
  },
  {
   "cell_type": "code",
   "execution_count": 104,
   "id": "89ef9b90-c68c-4757-86ca-dc5979ae134c",
   "metadata": {},
   "outputs": [
    {
     "data": {
      "text/plain": [
       "{'matrix': 'BLOSUM62',\n",
       " 'expect': 10,\n",
       " 'gap_open': 11,\n",
       " 'gap_extend': 1,\n",
       " 'filter': 'F',\n",
       " 'cbs': 2}"
      ]
     },
     "execution_count": 104,
     "metadata": {},
     "output_type": "execute_result"
    }
   ],
   "source": [
    "blast_report['params']"
   ]
  },
  {
   "cell_type": "code",
   "execution_count": 108,
   "id": "759f7c49-478e-47c0-8d0c-0a97b144a994",
   "metadata": {},
   "outputs": [
    {
     "data": {
      "text/plain": [
       "dict"
      ]
     },
     "execution_count": 108,
     "metadata": {},
     "output_type": "execute_result"
    }
   ],
   "source": [
    "type(blast_report['results'])"
   ]
  },
  {
   "cell_type": "markdown",
   "id": "8bea5f0e-3960-4ac9-ab0c-ef5028b3bdca",
   "metadata": {},
   "source": [
    "El diccionario *results* contiene el detalle de cada secuencia que devuelve el análisis Blast."
   ]
  },
  {
   "cell_type": "code",
   "execution_count": 39,
   "id": "a79c6913-38e4-4778-9113-6f732e063f76",
   "metadata": {},
   "outputs": [
    {
     "data": {
      "text/plain": [
       "dict_keys(['search'])"
      ]
     },
     "execution_count": 39,
     "metadata": {},
     "output_type": "execute_result"
    }
   ],
   "source": [
    "blast_report['results'].keys()"
   ]
  },
  {
   "cell_type": "code",
   "execution_count": 40,
   "id": "09c23081-f674-48ea-b4a3-1947a111ebe5",
   "metadata": {},
   "outputs": [
    {
     "data": {
      "text/plain": [
       "dict_keys(['query_id', 'query_title', 'query_len', 'hits', 'stat'])"
      ]
     },
     "execution_count": 40,
     "metadata": {},
     "output_type": "execute_result"
    }
   ],
   "source": [
    "blast_report['results']['search'].keys()"
   ]
  },
  {
   "cell_type": "code",
   "execution_count": 128,
   "id": "fd18fc90-dd0a-4c8b-aef7-b2d24d24184a",
   "metadata": {},
   "outputs": [
    {
     "data": {
      "text/plain": [
       "list"
      ]
     },
     "execution_count": 128,
     "metadata": {},
     "output_type": "execute_result"
    }
   ],
   "source": [
    "type(blast_report['results']['search']['hits'])"
   ]
  },
  {
   "cell_type": "markdown",
   "id": "c757826c-fec9-4f44-8d97-6ce9f88855af",
   "metadata": {},
   "source": [
    "La búsqueda Blast en el NCBI devolvió 50 resultados:"
   ]
  },
  {
   "cell_type": "code",
   "execution_count": 41,
   "id": "bc09f021-1ff8-4233-952e-f40758a5a7de",
   "metadata": {},
   "outputs": [],
   "source": [
    "res_list = blast_report['results']['search']['hits']"
   ]
  },
  {
   "cell_type": "code",
   "execution_count": 42,
   "id": "9827bc54-1719-4508-8960-ff2ad435e544",
   "metadata": {},
   "outputs": [
    {
     "data": {
      "text/plain": [
       "50"
      ]
     },
     "execution_count": 42,
     "metadata": {},
     "output_type": "execute_result"
    }
   ],
   "source": [
    "len(res_list)"
   ]
  },
  {
   "cell_type": "code",
   "execution_count": 43,
   "id": "8fa1711d-0598-4289-8e81-dd736740dd1c",
   "metadata": {},
   "outputs": [
    {
     "data": {
      "text/plain": [
       "dict"
      ]
     },
     "execution_count": 43,
     "metadata": {},
     "output_type": "execute_result"
    }
   ],
   "source": [
    "type(res_list[0])"
   ]
  },
  {
   "cell_type": "markdown",
   "id": "d273e1d0-edaf-4c8c-bf73-3f1b02f73ea5",
   "metadata": {},
   "source": [
    "Y es posible recuperar cada una de las secuencias que encontró Blast:"
   ]
  },
  {
   "cell_type": "code",
   "execution_count": 44,
   "id": "a10212b3-606f-42b3-8012-b67308b29b69",
   "metadata": {},
   "outputs": [
    {
     "data": {
      "text/plain": [
       "dict_keys(['num', 'description', 'len', 'hsps'])"
      ]
     },
     "execution_count": 44,
     "metadata": {},
     "output_type": "execute_result"
    }
   ],
   "source": [
    "res_list[0].keys()"
   ]
  },
  {
   "cell_type": "code",
   "execution_count": 45,
   "id": "d9df76f7-493d-4166-883b-396ac68fb925",
   "metadata": {},
   "outputs": [
    {
     "data": {
      "text/plain": [
       "[{'id': 'emb|CAA97550.1|',\n",
       "  'accession': 'CAA97550',\n",
       "  'title': 'AAT2 [Saccharomyces cerevisiae]',\n",
       "  'taxid': 4932,\n",
       "  'sciname': 'Saccharomyces cerevisiae'}]"
      ]
     },
     "execution_count": 45,
     "metadata": {},
     "output_type": "execute_result"
    }
   ],
   "source": [
    "res_list[0]['description']"
   ]
  },
  {
   "cell_type": "code",
   "execution_count": 46,
   "id": "a67fb963-6431-49bd-9034-c580742bb616",
   "metadata": {},
   "outputs": [
    {
     "data": {
      "text/plain": [
       "432"
      ]
     },
     "execution_count": 46,
     "metadata": {},
     "output_type": "execute_result"
    }
   ],
   "source": [
    "res_list[0]['len']"
   ]
  },
  {
   "cell_type": "code",
   "execution_count": 47,
   "id": "071e6ee8-1756-479d-b32d-63ae4524f704",
   "metadata": {},
   "outputs": [
    {
     "data": {
      "text/plain": [
       "[{'num': 1,\n",
       "  'bit_score': 874.774,\n",
       "  'score': 2259,\n",
       "  'evalue': 0,\n",
       "  'identity': 418,\n",
       "  'positive': 418,\n",
       "  'query_from': 1,\n",
       "  'query_to': 418,\n",
       "  'hit_from': 15,\n",
       "  'hit_to': 432,\n",
       "  'align_len': 418,\n",
       "  'gaps': 0,\n",
       "  'qseq': 'MSATLFNNIELLPPDALFGIKQRYGQDQRATKVDLGIGAYRDDNGKPWVLPSVKAAEKLIHNDSSYNHEYLGITGLPSLTSNAAKIIFGTQSDAFQEDRVISVQSLSGTGALHISAKFFSKFFPDKLVYLSKPTWANHMAIFENQGLKTATYPYWANETKSLDLNGFLNAIQKAPEGSIFVLHSCAHNPTGLDPTSEQWVQIVDAIASKNHIALFDTAYQGFATGDLDKDAYAVRLGVEKLSTVSPVFVCQSFAKNAGMYGERVGCFHLALTKQAQNKTIKPAVTSQLAKIIRSEVSNPPAYGAKIVAKLLETPELTEQWHKDMVTMSSRITKMRHALRDHLVKLGTPGNWDHIVNQCGMFSFTGLTPQMVKRLEETHAVYLVASGRASIAGLNQGNVEYVAKAIDEVVRFYTIEAKL',\n",
       "  'hseq': 'MSATLFNNIELLPPDALFGIKQRYGQDQRATKVDLGIGAYRDDNGKPWVLPSVKAAEKLIHNDSSYNHEYLGITGLPSLTSNAAKIIFGTQSDAFQEDRVISVQSLSGTGALHISAKFFSKFFPDKLVYLSKPTWANHMAIFENQGLKTATYPYWANETKSLDLNGFLNAIQKAPEGSIFVLHSCAHNPTGLDPTSEQWVQIVDAIASKNHIALFDTAYQGFATGDLDKDAYAVRLGVEKLSTVSPVFVCQSFAKNAGMYGERVGCFHLALTKQAQNKTIKPAVTSQLAKIIRSEVSNPPAYGAKIVAKLLETPELTEQWHKDMVTMSSRITKMRHALRDHLVKLGTPGNWDHIVNQCGMFSFTGLTPQMVKRLEETHAVYLVASGRASIAGLNQGNVEYVAKAIDEVVRFYTIEAKL',\n",
       "  'midline': 'MSATLFNNIELLPPDALFGIKQRYGQDQRATKVDLGIGAYRDDNGKPWVLPSVKAAEKLIHNDSSYNHEYLGITGLPSLTSNAAKIIFGTQSDAFQEDRVISVQSLSGTGALHISAKFFSKFFPDKLVYLSKPTWANHMAIFENQGLKTATYPYWANETKSLDLNGFLNAIQKAPEGSIFVLHSCAHNPTGLDPTSEQWVQIVDAIASKNHIALFDTAYQGFATGDLDKDAYAVRLGVEKLSTVSPVFVCQSFAKNAGMYGERVGCFHLALTKQAQNKTIKPAVTSQLAKIIRSEVSNPPAYGAKIVAKLLETPELTEQWHKDMVTMSSRITKMRHALRDHLVKLGTPGNWDHIVNQCGMFSFTGLTPQMVKRLEETHAVYLVASGRASIAGLNQGNVEYVAKAIDEVVRFYTIEAKL'}]"
      ]
     },
     "execution_count": 47,
     "metadata": {},
     "output_type": "execute_result"
    }
   ],
   "source": [
    "res_list[0]['hsps']"
   ]
  },
  {
   "cell_type": "code",
   "execution_count": 48,
   "id": "fa45db6c-e46b-4a69-afdf-2f382c43e748",
   "metadata": {},
   "outputs": [
    {
     "data": {
      "text/plain": [
       "1"
      ]
     },
     "execution_count": 48,
     "metadata": {},
     "output_type": "execute_result"
    }
   ],
   "source": [
    "len(res_list[0]['description'])"
   ]
  },
  {
   "cell_type": "code",
   "execution_count": 49,
   "id": "e67baba0-6b68-4ae5-8d73-01d688684f9a",
   "metadata": {},
   "outputs": [
    {
     "data": {
      "text/plain": [
       "'CAA97550'"
      ]
     },
     "execution_count": 49,
     "metadata": {},
     "output_type": "execute_result"
    }
   ],
   "source": [
    "res_list[0]['description'][0]['accession']"
   ]
  },
  {
   "cell_type": "code",
   "execution_count": null,
   "id": "7600a29e-435a-4789-a6ed-dfb8b2e142e5",
   "metadata": {},
   "outputs": [],
   "source": []
  }
 ],
 "metadata": {
  "kernelspec": {
   "display_name": "Python 3 (ipykernel)",
   "language": "python",
   "name": "python3"
  },
  "language_info": {
   "codemirror_mode": {
    "name": "ipython",
    "version": 3
   },
   "file_extension": ".py",
   "mimetype": "text/x-python",
   "name": "python",
   "nbconvert_exporter": "python",
   "pygments_lexer": "ipython3",
   "version": "3.12.2"
  }
 },
 "nbformat": 4,
 "nbformat_minor": 5
}
