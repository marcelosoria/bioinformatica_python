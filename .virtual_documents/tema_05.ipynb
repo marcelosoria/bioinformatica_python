





import Bio
del Bio











from Bio import SeqIO
seq_mitocondria = SeqIO.read("S288c_mitochondrion.gb", "genbank")
print(seq_mitocondria.id)








seq_mitocondria.description





seq_mitocondria.annotations





seq_mitocondria.annotations['taxonomy']





seq_mitocondria.seq





len(seq_mitocondria.seq)





print(seq_mitocondria.seq[0:100])








SeqIO.write(seq_mitocondria, "S288c_mitochondrion.fasta", "fasta")








for feature in seq_mitocondria.features[0:11]:
    print(feature.type)





print(seq_mitocondria.features[1])





type(seq_mitocondria.features[1])








seq_mitocondria.features[2].qualifiers





seq_mitocondria.features[2].qualifiers.keys()


seq_mitocondria.features[2].qualifiers['db_xref']








from Bio import SeqIO
from Bio.SeqRecord import SeqRecord

seq_mitocondria = SeqIO.read("S288c_mitochondrion.gb", "genbank")

tRNA_list = list()

for feature in seq_mitocondria.features:
    if feature.type == "tRNA":
        
        start_pos = feature.location.start.real
        end_pos = feature.location.end.real
        seq_trna  = seq_mitocondria.seq[start_pos:end_pos]
        # Determinar dónde empieza y termina el gen, extraer la secuencia
        
        id = feature.qualifiers['db_xref'][0]
        description = feature.qualifiers['db_xref'][1] + " " + feature.qualifiers['product'][0] 
        # Determinar el id y redactar la descripción
        
        if feature.location.strand == 1:
            seq_trna = seq_trna.transcribe()
        else:
            seq_trna = seq_trna.reverse_complement().transcribe()
        # Realizar la transcripción del gen. Se es necesario antes determinar el reverso complemento
        
        seq_temp = SeqRecord(seq_trna, id = id, description = description)
        tRNA_list.append(seq_temp)
        # Construir el nuevo registro y agregarlo a la lista

SeqIO.write(tRNA_list, "S288c_mitochondrion_tRNAs.fasta", "fasta")
# Escribir el archivo fasta








print(seq_mitocondria.features[10].qualifiers["translation"])









