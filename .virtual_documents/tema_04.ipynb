





file_handle = open("genoma_levadura_S288C.csv", "r")
content = file_handle.read()
print(content)
file_handle.close()





type(content)





file_handle = open("genoma_levadura_S288C.csv", "r")
content = file_handle.read().splitlines()
for linea in content:
    print(linea)
file_handle.close()





type(content)


type(content[0])


content[0]


content[1]





len(content)





content[0].split("\t")






file_handle = open("genoma_levadura_S288C.csv", "r")
encabezado = file_handle.readline()
content = file_handle.read().splitlines()
for linea in content:
    print(linea)
file_handle.close()





encabezado.split("\t")[2]





file_handle = open("genoma_levadura_S288C.csv", "r")

encabezado = file_handle.readline()
refseq = list()

content = file_handle.read().splitlines()
for linea in content:
    refseq.append( linea.split("\t")[2] )
file_handle.close()
print(refseq)





file_handle = open("genoma_levadura_S288C.csv", "r")

encabezado = file_handle.readline()
refseq = list()

content = file_handle.read().splitlines()
for linea in content:
    refseq.append( linea.split("\t")[2] )
file_handle.close()

file_output = open("URLs_cromosomas_ S288C.csv", "w")
for acceso in refseq:
    url = "https://www.ncbi.nlm.nih.gov/nuccore/" + acceso + "\n"
    file_output.write(url)
file_output.close()



