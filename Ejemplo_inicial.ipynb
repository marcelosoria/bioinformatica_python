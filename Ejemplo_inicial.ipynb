{
 "cells": [
  {
   "cell_type": "markdown",
   "metadata": {},
   "source": [
    "# Nos metemos en tema con un ejemplo biológico"
   ]
  },
  {
   "cell_type": "markdown",
   "metadata": {},
   "source": [
    "Vamos a cerrar el repaso e iniciar el trabajo con datos biológicos con un ejemplo más complejo donde vamos a aplicar lo repasado y aprender algunas cosas más.\n",
    "\n",
    "La cepa S288C es la cepa de referencia de *Saccharomyces cerevisiae* y este es el URL en el NCBI que corresponde a su genoma:\n",
    "https://www.ncbi.nlm.nih.gov/genome/15?genome_assembly_id=22535\n",
    "\n",
    "Ahi pueden encontrar una tabla con información del genoma. Esta tabla tiene una fila por cada cromosoma más la mitocondría y columnas indicando nombres alternativos, genes por cromosoma, etc. Esta es la información que está presente en el archivo genoma_levadura_S288C.csv, del que necesitan una copia en la carpeta local de trabajo. Es un archivo de texto, por lo que lo pueden mirarlo con un editor de texto o una planilla de cálculo, sin modificarlo. Es recomendable darle una mirada a este archivo para entender mejor lo que vamos a hacer.\n",
    "\n",
    "Nuestra tarea es leer este archivo y generar uno nuevo con las direcciones web que corresponden al registro de cada cromosoma en el NCBI. Para esto necesitamos extraer la información que está en la columna **RefSeq**.\n",
    "\n",
    "Python tiene un comando básico para poder trabajar con archivos de texto, *open()*. Con este comando indicamos si el archivo lo queremos leer sin modificar, escribir o ambas cosas. El resultado de la función es un gestor de archivo que se asigna a una variable. Luego, la clase gestor de archivos cuenta con diferentes métodos, entre ellos algunos para leer el contenido de un archivo. Parece una forma extraña de trabajar, pero vamos a ver quie tiene su lógica.\n",
    "\n",
    "Empecemos con algo muy sencillo: abrimos el archivo en modo lectura con *open()* y el modo en \"r\", (read, lectura), y lo asignamos al gestor *file_handle*. Luego, con el método *read()* leemos el contenido del archivo y lo asignamos a la cadena de caracteres, o string, *content*. Finalmente,  mostramos el contenido por pantalla con *print()* y cerramos el archivo a través del gestor:\n"
   ]
  },
  {
   "cell_type": "code",
   "execution_count": 14,
   "metadata": {},
   "outputs": [
    {
     "name": "stdout",
     "output_type": "stream",
     "text": [
      "Type\tName\tRefSeq\tINSDC\tSize (Mb)\tGC%\tProtein\trRNA\ttRNA\tOther RNA\tGene\tPseudogene\n",
      "Chr\tI\tNC_001133.9\tBK006935.2\t0.23\t39.3\t94\t-\t4\t2\t101\t1\n",
      "Chr\tII\tNC_001134.8\tBK006936.2\t0.81\t38.3\t415\t-\t13\t4\t432\t-\n",
      "Chr\tIII\tNC_001135.5\tBK006937.2\t0.32\t38.5\t168\t-\t10\t4\t184\t2\n",
      "Chr\tIV\tNC_001136.10\tBK006938.2\t1.53\t37.9\t766\t-\t28\t4\t799\t1\n",
      "Chr\tV\tNC_001137.3\tBK006939.2\t0.58\t38.5\t287\t-\t20\t9\t317\t1\n",
      "Chr\tVI\tNC_001138.5\tBK006940.2\t0.27\t38.7\t128\t-\t10\t4\t143\t1\n",
      "Chr\tVII\tNC_001139.9\tBK006941.2\t1.09\t38.1\t539\t-\t36\t10\t585\t-\n",
      "Chr\tVIII\tNC_001140.6\tBK006934.2\t0.56\t38.5\t290\t-\t11\t4\t305\t-\n",
      "Chr\tIX\tNC_001141.2\tBK006942.2\t0.44\t38.9\t213\t-\t10\t3\t232\t6\n",
      "Chr\tX\tNC_001142.9\tBK006943.2\t0.75\t38.4\t362\t-\t24\t6\t392\t-\n",
      "Chr\tXI\tNC_001143.9\tBK006944.2\t0.67\t38.1\t317\t-\t16\t5\t338\t-\n",
      "Chr\tXII\tNC_001144.5\tBK006945.2\t1.08\t38.5\t519\t12\t21\t18\t572\t2\n",
      "Chr\tXIII\tNC_001145.3\tBK006946.2\t0.92\t38.2\t469\t-\t21\t15\t505\t-\n",
      "Chr\tXIV\tNC_001146.8\tBK006947.3\t0.78\t38.6\t398\t-\t14\t6\t418\t-\n",
      "Chr\tXV\tNC_001147.6\tBK006948.2\t1.09\t38.2\t546\t-\t20\t11\t579\t2\n",
      "Chr\tXVI\tNC_001148.4\tBK006949.2\t0.95\t38.1\t473\t-\t17\t6\t498\t2\n",
      "nonChr\tMT\tNC_001224.1\t-\t0.09\t17.1\t19\t2\t24\t1\t46\t-\n",
      "\n"
     ]
    }
   ],
   "source": [
    "file_handle = open(\"genoma_levadura_S288C.csv\", \"r\")\n",
    "content = file_handle.read()\n",
    "print(content)\n",
    "file_handle.close()"
   ]
  },
  {
   "cell_type": "markdown",
   "metadata": {},
   "source": [
    "Verifiquemos el tipo de dato de content:"
   ]
  },
  {
   "cell_type": "code",
   "execution_count": 15,
   "metadata": {},
   "outputs": [
    {
     "data": {
      "text/plain": [
       "str"
      ]
     },
     "execution_count": 15,
     "metadata": {},
     "output_type": "execute_result"
    }
   ],
   "source": [
    "type(content)"
   ]
  },
  {
   "cell_type": "markdown",
   "metadata": {},
   "source": [
    "Para lograr nuestro objetivo, construir los URLs, no nos sirve leer el contenido como una única cadena de caracteres. En cambio, necesitamos leer las lineas una por vez y extraer de cada una de ellas la información que precisamos. Para lograr esto leemos el contenido como antes, pero además lo fragmentamos en líneas con el método *splitlines()*, que nos dará una lista dará una lista donde cada elemento es una cadena de carácteres que se corresponde a una línea. Después vamos a usar un loop para recorrer la lista e imprimir el contenido de cada línea. "
   ]
  },
  {
   "cell_type": "code",
   "execution_count": 19,
   "metadata": {},
   "outputs": [
    {
     "name": "stdout",
     "output_type": "stream",
     "text": [
      "Type\tName\tRefSeq\tINSDC\tSize (Mb)\tGC%\tProtein\trRNA\ttRNA\tOther RNA\tGene\tPseudogene\n",
      "Chr\tI\tNC_001133.9\tBK006935.2\t0.23\t39.3\t94\t-\t4\t2\t101\t1\n",
      "Chr\tII\tNC_001134.8\tBK006936.2\t0.81\t38.3\t415\t-\t13\t4\t432\t-\n",
      "Chr\tIII\tNC_001135.5\tBK006937.2\t0.32\t38.5\t168\t-\t10\t4\t184\t2\n",
      "Chr\tIV\tNC_001136.10\tBK006938.2\t1.53\t37.9\t766\t-\t28\t4\t799\t1\n",
      "Chr\tV\tNC_001137.3\tBK006939.2\t0.58\t38.5\t287\t-\t20\t9\t317\t1\n",
      "Chr\tVI\tNC_001138.5\tBK006940.2\t0.27\t38.7\t128\t-\t10\t4\t143\t1\n",
      "Chr\tVII\tNC_001139.9\tBK006941.2\t1.09\t38.1\t539\t-\t36\t10\t585\t-\n",
      "Chr\tVIII\tNC_001140.6\tBK006934.2\t0.56\t38.5\t290\t-\t11\t4\t305\t-\n",
      "Chr\tIX\tNC_001141.2\tBK006942.2\t0.44\t38.9\t213\t-\t10\t3\t232\t6\n",
      "Chr\tX\tNC_001142.9\tBK006943.2\t0.75\t38.4\t362\t-\t24\t6\t392\t-\n",
      "Chr\tXI\tNC_001143.9\tBK006944.2\t0.67\t38.1\t317\t-\t16\t5\t338\t-\n",
      "Chr\tXII\tNC_001144.5\tBK006945.2\t1.08\t38.5\t519\t12\t21\t18\t572\t2\n",
      "Chr\tXIII\tNC_001145.3\tBK006946.2\t0.92\t38.2\t469\t-\t21\t15\t505\t-\n",
      "Chr\tXIV\tNC_001146.8\tBK006947.3\t0.78\t38.6\t398\t-\t14\t6\t418\t-\n",
      "Chr\tXV\tNC_001147.6\tBK006948.2\t1.09\t38.2\t546\t-\t20\t11\t579\t2\n",
      "Chr\tXVI\tNC_001148.4\tBK006949.2\t0.95\t38.1\t473\t-\t17\t6\t498\t2\n",
      "nonChr\tMT\tNC_001224.1\t-\t0.09\t17.1\t19\t2\t24\t1\t46\t-\n"
     ]
    }
   ],
   "source": [
    "file_handle = open(\"genoma_levadura_S288C.csv\", \"r\")\n",
    "content = file_handle.read().splitlines()\n",
    "for linea in content:\n",
    "    print(linea)\n",
    "file_handle.close()"
   ]
  },
  {
   "cell_type": "markdown",
   "metadata": {},
   "source": [
    "Repasemos ¿Qué hicimos diferente en este segundo ejemplo? El método *read()* devuelve una única cadena de caracteres. Esto es, todo el archivo de texto es un único string con marcas para indicar dónde está el final de cada linea. El método *splitlines()* usa las marcas de final de línea como delimitador y fragmenta la cadena de caracteres creando una lista de cadena de caracteres. \n",
    "\n",
    "Otra cosa interesante es cómo encadenamos métodos:\n",
    "*file_handle.read().splitlines()*\n",
    "\n",
    "El método *read()* pertenece a la clase *file_handle*, y devuelve una cadena de caracteres. A su vez la clase *str* tiene un método *splitlines()* que va a devolver una lista de cadena de caracteres. \n",
    "\n",
    "Observen esto:"
   ]
  },
  {
   "cell_type": "code",
   "execution_count": 18,
   "metadata": {},
   "outputs": [
    {
     "data": {
      "text/plain": [
       "list"
      ]
     },
     "execution_count": 18,
     "metadata": {},
     "output_type": "execute_result"
    }
   ],
   "source": [
    "type(content)"
   ]
  },
  {
   "cell_type": "code",
   "execution_count": 20,
   "metadata": {},
   "outputs": [
    {
     "data": {
      "text/plain": [
       "str"
      ]
     },
     "execution_count": 20,
     "metadata": {},
     "output_type": "execute_result"
    }
   ],
   "source": [
    "type(content[0])"
   ]
  },
  {
   "cell_type": "code",
   "execution_count": 5,
   "metadata": {},
   "outputs": [
    {
     "data": {
      "text/plain": [
       "'Type\\tName\\tRefSeq\\tINSDC\\tSize (Mb)\\tGC%\\tProtein\\trRNA\\ttRNA\\tOther RNA\\tGene\\tPseudogene'"
      ]
     },
     "execution_count": 5,
     "metadata": {},
     "output_type": "execute_result"
    }
   ],
   "source": [
    "content[0]"
   ]
  },
  {
   "cell_type": "code",
   "execution_count": 6,
   "metadata": {},
   "outputs": [
    {
     "data": {
      "text/plain": [
       "'Chr\\tI\\tNC_001133.9\\tBK006935.2\\t0.23\\t39.3\\t94\\t-\\t4\\t2\\t101\\t1'"
      ]
     },
     "execution_count": 6,
     "metadata": {},
     "output_type": "execute_result"
    }
   ],
   "source": [
    "content[1]"
   ]
  },
  {
   "cell_type": "markdown",
   "metadata": {},
   "source": [
    "Cada elemento de la lista content es una linea del archivo original. Las marcas \"\\t\" son una indicación de que dentro de cada linea hay un tabulador separando campos. Vamos a precisar esta información dentro de poco.\n",
    "\n",
    "En total, nuestro archivo, y la tabla original, tiene 18 lineas:"
   ]
  },
  {
   "cell_type": "code",
   "execution_count": 5,
   "metadata": {},
   "outputs": [
    {
     "data": {
      "text/plain": [
       "18"
      ]
     },
     "execution_count": 5,
     "metadata": {},
     "output_type": "execute_result"
    }
   ],
   "source": [
    "len(content)"
   ]
  },
  {
   "cell_type": "markdown",
   "metadata": {},
   "source": [
    "La primera linea del archivo tiene los nombres de los campos, esto equivale a cada una de las columnas de la tabla original. Así como usamos *splitlines()* para fragmentar un archivo de texto con varias líneas, podemos hacer lo mismo dentro de una linea con *split()*:"
   ]
  },
  {
   "cell_type": "code",
   "execution_count": 6,
   "metadata": {},
   "outputs": [
    {
     "data": {
      "text/plain": [
       "['Type',\n",
       " 'Name',\n",
       " 'RefSeq',\n",
       " 'INSDC',\n",
       " 'Size (Mb)',\n",
       " 'GC%',\n",
       " 'Protein',\n",
       " 'rRNA',\n",
       " 'tRNA',\n",
       " 'Other RNA',\n",
       " 'Gene',\n",
       " 'Pseudogene']"
      ]
     },
     "execution_count": 6,
     "metadata": {},
     "output_type": "execute_result"
    }
   ],
   "source": [
    "content[0].split(\"\\t\")\n"
   ]
  },
  {
   "cell_type": "markdown",
   "metadata": {},
   "source": [
    "Vamos a hacer una modificación a nuestro programa:"
   ]
  },
  {
   "cell_type": "code",
   "execution_count": 7,
   "metadata": {},
   "outputs": [
    {
     "name": "stdout",
     "output_type": "stream",
     "text": [
      "Chr\tI\tNC_001133.9\tBK006935.2\t0.23\t39.3\t94\t-\t4\t2\t101\t1\n",
      "Chr\tII\tNC_001134.8\tBK006936.2\t0.81\t38.3\t415\t-\t13\t4\t432\t-\n",
      "Chr\tIII\tNC_001135.5\tBK006937.2\t0.32\t38.5\t168\t-\t10\t4\t184\t2\n",
      "Chr\tIV\tNC_001136.10\tBK006938.2\t1.53\t37.9\t766\t-\t28\t4\t799\t1\n",
      "Chr\tV\tNC_001137.3\tBK006939.2\t0.58\t38.5\t287\t-\t20\t9\t317\t1\n",
      "Chr\tVI\tNC_001138.5\tBK006940.2\t0.27\t38.7\t128\t-\t10\t4\t143\t1\n",
      "Chr\tVII\tNC_001139.9\tBK006941.2\t1.09\t38.1\t539\t-\t36\t10\t585\t-\n",
      "Chr\tVIII\tNC_001140.6\tBK006934.2\t0.56\t38.5\t290\t-\t11\t4\t305\t-\n",
      "Chr\tIX\tNC_001141.2\tBK006942.2\t0.44\t38.9\t213\t-\t10\t3\t232\t6\n",
      "Chr\tX\tNC_001142.9\tBK006943.2\t0.75\t38.4\t362\t-\t24\t6\t392\t-\n",
      "Chr\tXI\tNC_001143.9\tBK006944.2\t0.67\t38.1\t317\t-\t16\t5\t338\t-\n",
      "Chr\tXII\tNC_001144.5\tBK006945.2\t1.08\t38.5\t519\t12\t21\t18\t572\t2\n",
      "Chr\tXIII\tNC_001145.3\tBK006946.2\t0.92\t38.2\t469\t-\t21\t15\t505\t-\n",
      "Chr\tXIV\tNC_001146.8\tBK006947.3\t0.78\t38.6\t398\t-\t14\t6\t418\t-\n",
      "Chr\tXV\tNC_001147.6\tBK006948.2\t1.09\t38.2\t546\t-\t20\t11\t579\t2\n",
      "Chr\tXVI\tNC_001148.4\tBK006949.2\t0.95\t38.1\t473\t-\t17\t6\t498\t2\n",
      "nonChr\tMT\tNC_001224.1\t-\t0.09\t17.1\t19\t2\t24\t1\t46\t-\n"
     ]
    }
   ],
   "source": [
    "file_handle = open(\"genoma_levadura_S288C.csv\", \"r\")\n",
    "encabezado = file_handle.readline()\n",
    "content = file_handle.read().splitlines()\n",
    "for linea in content:\n",
    "    print(linea)\n",
    "file_handle.close()"
   ]
  },
  {
   "cell_type": "markdown",
   "metadata": {},
   "source": [
    "Presten atención al uso de *readline()* y *readlines()*. El primer método lee una sola línea, y además avanza un puntero una posición, de manera que cuando ejecutamos *readlines()* comienza en la segunda línea.\n",
    "\n",
    "Por otra parte, recordemos lo que habíamos hecho con *split()*: dividimos una linea de acuerdo a alguna marca, en nuestro caso, una tabulación. esta operación nos devolvía una lista, que se pueda indexar como cualquier lista:"
   ]
  },
  {
   "cell_type": "code",
   "execution_count": 8,
   "metadata": {},
   "outputs": [
    {
     "data": {
      "text/plain": [
       "'RefSeq'"
      ]
     },
     "execution_count": 8,
     "metadata": {},
     "output_type": "execute_result"
    }
   ],
   "source": [
    "encabezado.split(\"\\t\")[2]"
   ]
  },
  {
   "cell_type": "markdown",
   "metadata": {},
   "source": [
    "Esto nos da una pista de cómo avanzar con nuestra programa: tenemos que crear una lista nueva donde almacenamos cada una de las cadenas de caracteres que resulta de extraer el elemento en la posición 2 de cada linea (recuerden, Python cuenta desde cero)."
   ]
  },
  {
   "cell_type": "code",
   "execution_count": 9,
   "metadata": {},
   "outputs": [
    {
     "name": "stdout",
     "output_type": "stream",
     "text": [
      "['NC_001133.9', 'NC_001134.8', 'NC_001135.5', 'NC_001136.10', 'NC_001137.3', 'NC_001138.5', 'NC_001139.9', 'NC_001140.6', 'NC_001141.2', 'NC_001142.9', 'NC_001143.9', 'NC_001144.5', 'NC_001145.3', 'NC_001146.8', 'NC_001147.6', 'NC_001148.4', 'NC_001224.1']\n"
     ]
    }
   ],
   "source": [
    "file_handle = open(\"genoma_levadura_S288C.csv\", \"r\")\n",
    "\n",
    "encabezado = file_handle.readline()\n",
    "refseq = list()\n",
    "\n",
    "content = file_handle.read().splitlines()\n",
    "for linea in content:\n",
    "    refseq.append( linea.split(\"\\t\")[2] )\n",
    "file_handle.close()\n",
    "print(refseq)"
   ]
  },
  {
   "cell_type": "markdown",
   "metadata": {},
   "source": [
    "Aquí usamos un método nuevo para las listas, *append()*. Lo que hace es agregar un elemento nuevo a una linea.\n",
    "\n",
    "Ya casi estamos. Los URL para referenciar cada uno de los cromosomas son así:\n",
    "https://www.ncbi.nlm.nih.gov/nuccore/NC_001139.9\n",
    "\n",
    "Esto es, tenemos una cadena de caracteres fija a la que le agregamos el identificador de secuencia. Necesitamos crear estos strings y guardarlos en un archivo de texto."
   ]
  },
  {
   "cell_type": "code",
   "execution_count": 22,
   "metadata": {},
   "outputs": [],
   "source": [
    "file_handle = open(\"genoma_levadura_S288C.csv\", \"r\")\n",
    "\n",
    "encabezado = file_handle.readline()\n",
    "refseq = list()\n",
    "\n",
    "content = file_handle.read().splitlines()\n",
    "for linea in content:\n",
    "    refseq.append( linea.split(\"\\t\")[2] )\n",
    "file_handle.close()\n",
    "\n",
    "file_output = open(\"URLs_cromosomas_ S288C.csv\", \"w\")\n",
    "for acceso in refseq:\n",
    "    url = \"https://www.ncbi.nlm.nih.gov/nuccore/\" + acceso + \"\\n\"\n",
    "    file_output.write(url)\n",
    "file_output.close()"
   ]
  },
  {
   "cell_type": "markdown",
   "metadata": {},
   "source": [
    "¿Se creó el archivo? \n",
    "¿Probaron algún URL? ¿Levanta la página buscada en el NCBI?\n",
    "¡Excelente!\n",
    "\n",
    "Una aclaración, al preparar la cadena *url* agregamos al final \"\\n\", esto es la indiciación de un salto de linea. Si no, se escribe un archivo con cada url a continuación del otro.\n"
   ]
  }
 ],
 "metadata": {
  "kernelspec": {
   "display_name": "Python 3 (ipykernel)",
   "language": "python",
   "name": "python3"
  },
  "language_info": {
   "codemirror_mode": {
    "name": "ipython",
    "version": 3
   },
   "file_extension": ".py",
   "mimetype": "text/x-python",
   "name": "python",
   "nbconvert_exporter": "python",
   "pygments_lexer": "ipython3",
   "version": "3.12.2"
  }
 },
 "nbformat": 4,
 "nbformat_minor": 4
}
